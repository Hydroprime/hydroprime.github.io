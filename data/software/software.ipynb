{
  "cells": [
    {
      "cell_type": "raw",
      "metadata": {},
      "source": [
        "---\n",
        "title: \"Software\"\n",
        "---"
      ],
      "id": "f14f0686"
    },
    {
      "cell_type": "markdown",
      "metadata": {},
      "source": [
        "```{html}\n",
        "<div class=\"card\" style=\"width: 18rem;\">\n",
        "  <div class=\"card-body\">\n",
        "    <h5 class=\"card-title\">Card title</h5>\n",
        "    <h6 class=\"card-subtitle mb-2 text-muted\">Card subtitle</h6>\n",
        "    <p class=\"card-text\">Some quick example text to build on the card title and make up the bulk of the card's content.</p>\n",
        "    <a href=\"#\" class=\"card-link\">Card link</a>\n",
        "    <a href=\"#\" class=\"card-link\">Another link</a>\n",
        "  </div>\n",
        "</div>\n",
        "```"
      ],
      "id": "ba22689f"
    }
  ],
  "metadata": {
    "kernelspec": {
      "name": "python3",
      "language": "python",
      "display_name": "Python 3 (ipykernel)"
    }
  },
  "nbformat": 4,
  "nbformat_minor": 5
}